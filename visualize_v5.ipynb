{
 "cells": [
  {
   "cell_type": "code",
   "execution_count": 2,
   "metadata": {},
   "outputs": [
    {
     "name": "stderr",
     "output_type": "stream",
     "text": [
      "/usr/lib/python3/dist-packages/requests/__init__.py:89: RequestsDependencyWarning: urllib3 (1.26.13) or chardet (3.0.4) doesn't match a supported version!\n",
      "  warnings.warn(\"urllib3 ({}) or chardet ({}) doesn't match a supported \"\n",
      "pybullet build time: May 20 2022 19:44:17\n"
     ]
    }
   ],
   "source": [
    "import torch\n",
    "import matplotlib.pyplot as plt\n",
    "import numpy as np\n",
    "import wandb\n",
    "from tqdm import tqdm\n",
    "import utils\n",
    "from dataset import StateActionEffectDataset\n",
    "import environment\n",
    "import copy\n",
    "\n",
    "run_id = \"p2iifnxj\"\n"
   ]
  },
  {
   "cell_type": "code",
   "execution_count": 3,
   "metadata": {},
   "outputs": [
    {
     "name": "stderr",
     "output_type": "stream",
     "text": [
      "/usr/lib/python3/dist-packages/requests/__init__.py:89: RequestsDependencyWarning: urllib3 (1.26.13) or chardet (3.0.4) doesn't match a supported version!\n",
      "  warnings.warn(\"urllib3 ({}) or chardet ({}) doesn't match a supported \"\n",
      "wandb: Currently logged in as: mbatuhancelik (colorslab). Use `wandb login --relogin` to force relogin\n"
     ]
    },
    {
     "data": {
      "application/vnd.jupyter.widget-view+json": {
       "model_id": "480bbe3683264e48959c908933a7e352",
       "version_major": 2,
       "version_minor": 0
      },
      "text/plain": [
       "VBox(children=(Label(value='Waiting for wandb.init()...\\r'), FloatProgress(value=0.016669675099999875, max=1.0…"
      ]
     },
     "metadata": {},
     "output_type": "display_data"
    },
    {
     "name": "stderr",
     "output_type": "stream",
     "text": [
      "wandb: ERROR Failed to sample metric: Not Supported\n"
     ]
    },
    {
     "data": {
      "text/html": [
       "wandb version 0.13.11 is available!  To upgrade, please run:\n",
       " $ pip install wandb --upgrade"
      ],
      "text/plain": [
       "<IPython.core.display.HTML object>"
      ]
     },
     "metadata": {},
     "output_type": "display_data"
    },
    {
     "data": {
      "text/html": [
       "Tracking run with wandb version 0.13.7"
      ],
      "text/plain": [
       "<IPython.core.display.HTML object>"
      ]
     },
     "metadata": {},
     "output_type": "display_data"
    },
    {
     "data": {
      "text/html": [
       "Run data is saved locally in <code>/home/batu/deepsym_v2/wandb/run-20230310_123522-p2iifnxj</code>"
      ],
      "text/plain": [
       "<IPython.core.display.HTML object>"
      ]
     },
     "metadata": {},
     "output_type": "display_data"
    },
    {
     "data": {
      "text/html": [
       "Resuming run <strong><a href=\"https://wandb.ai/colorslab/multideepsym/runs/p2iifnxj\" target=\"_blank\">resilient-sweep-93</a></strong> to <a href=\"https://wandb.ai/colorslab/multideepsym\" target=\"_blank\">Weights & Biases</a> (<a href=\"https://wandb.me/run\" target=\"_blank\">docs</a>)<br/>Sweep page:  <a href=\"https://wandb.ai/colorslab/multideepsym/sweeps/bc1pp4a5\" target=\"_blank\">https://wandb.ai/colorslab/multideepsym/sweeps/bc1pp4a5</a>"
      ],
      "text/plain": [
       "<IPython.core.display.HTML object>"
      ]
     },
     "metadata": {},
     "output_type": "display_data"
    }
   ],
   "source": [
    "run = wandb.init(entity=\"colorslab\",project=\"multideepsym\", resume=\"must\", id=run_id)\n",
    "run = wandb.Api().run(\"colorslab/multideepsym/\" + run_id)\n",
    "model = utils.create_model_from_config(run.config)\n",
    "model.load(\"_best\", from_wandb=True)"
   ]
  },
  {
   "cell_type": "code",
   "execution_count": 4,
   "metadata": {},
   "outputs": [],
   "source": [
    "dataset = StateActionEffectDataset(\"2obj\", \"\")"
   ]
  },
  {
   "cell_type": "code",
   "execution_count": 5,
   "metadata": {},
   "outputs": [
    {
     "name": "stdout",
     "output_type": "stream",
     "text": [
      "95.5% resulted in ds\n",
      "955 samples\n",
      "30.599999999999998% multi object(2) movement\n",
      "306 samples\n",
      "23.599999999999998% multi object(3) movement\n",
      "236 samples\n",
      "30.599999999999998% towers falling down\n",
      "306 samples\n"
     ]
    }
   ],
   "source": [
    "count = 0\n",
    "for e in dataset.effect:\n",
    "    if torch.any(e[:,2].abs().max() > 0.1):\n",
    "        count += 1\n",
    "print(f\"{count / len(dataset) * 100}% resulted in ds\")\n",
    "print(f\"{count } samples\")\n",
    "count = 0\n",
    "for e in dataset.effect:\n",
    "    if np.count_nonzero(e[:,2] > 0.1) > 1:\n",
    "        count += 1\n",
    "print(f\"{count / len(dataset) * 100}% multi object(2) movement\")\n",
    "print(f\"{count } samples\")\n",
    "count = 0\n",
    "for e in dataset.effect:\n",
    "    if np.count_nonzero(e[:,2] > 0.1) > 2:\n",
    "        count += 1\n",
    "print(f\"{count / len(dataset) * 100}% multi object(3) movement\")\n",
    "print(f\"{count } samples\")\n",
    "count = 0\n",
    "for e in dataset.effect:\n",
    "    if np.count_nonzero(e[:,2] < -0.1) > 0 or np.count_nonzero(e[:,2 + 9] < -0.1) > 1:\n",
    "        count += 1\n",
    "print(f\"{count / len(dataset) * 100}% towers falling down\")\n",
    "print(f\"{count } samples\")"
   ]
  },
  {
   "cell_type": "code",
   "execution_count": 6,
   "metadata": {},
   "outputs": [],
   "source": [
    "k=3"
   ]
  },
  {
   "cell_type": "code",
   "execution_count": 7,
   "metadata": {},
   "outputs": [
    {
     "name": "stdout",
     "output_type": "stream",
     "text": [
      "effect\n"
     ]
    }
   ],
   "source": [
    "e = dataset[k][\"effect\"]\n",
    "if torch.any(e[:,2].abs().max() > 0.1):\n",
    "    print(\"effect\")"
   ]
  },
  {
   "cell_type": "code",
   "execution_count": 8,
   "metadata": {},
   "outputs": [
    {
     "data": {
      "application/vnd.plotly.v1+json": {
       "config": {
        "plotlyServerURL": "https://plot.ly"
       },
       "data": [
        {
         "customdata": [
          [
           0,
           1
          ],
          [
           1,
           2
          ],
          [
           2,
           3
          ],
          [
           3,
           4
          ],
          [
           4,
           5
          ],
          [
           5,
           4
          ],
          [
           6,
           4
          ],
          [
           7,
           2
          ],
          [
           8,
           2
          ],
          [
           9,
           2
          ],
          [
           10,
           2
          ],
          [
           11,
           0
          ],
          [
           12,
           0
          ],
          [
           3,
           4
          ],
          [
           3,
           4
          ],
          [
           4,
           5
          ],
          [
           4,
           5
          ],
          [
           5,
           4
          ],
          [
           5,
           4
          ],
          [
           6,
           4
          ],
          [
           6,
           4
          ]
         ],
         "hovertemplate": "x=%{x}<br>y=%{y}<br>z=%{z}<br>id=%{marker.color}<br>type=%{customdata[1]}<extra></extra>",
         "legendgroup": "",
         "marker": {
          "color": [
           0,
           1,
           2,
           3,
           4,
           5,
           6,
           7,
           8,
           9,
           10,
           11,
           12,
           3,
           3,
           4,
           4,
           5,
           5,
           6,
           6
          ],
          "coloraxis": "coloraxis",
          "opacity": 0.7,
          "symbol": "circle"
         },
         "mode": "markers",
         "name": "",
         "scene": "scene",
         "showlegend": false,
         "type": "scatter3d",
         "x": [
          0.8998906016349792,
          0.8344697952270508,
          1.0162930488586426,
          0.631864070892334,
          1.0271530151367188,
          0.7366747260093689,
          0.31063029170036316,
          0.9335651397705078,
          0.9779102206230164,
          0.7858096957206726,
          0.512703001499176,
          0,
          0,
          0.756864070892334,
          0.506864070892334,
          0.9021530151367188,
          1.1521530151367188,
          0.8616747260093689,
          0.6116747260093689,
          0.43563029170036316,
          0.18563029170036316
         ],
         "y": [
          -0.5893197655677795,
          -0.08711715787649155,
          -0.5072118043899536,
          0.3806489408016205,
          -0.08425041288137436,
          -0.5047735571861267,
          0.5696820020675659,
          -0.3729047179222107,
          0.4125105142593384,
          0.6962570548057556,
          0.06176979839801788,
          0,
          0,
          0.3806462820662091,
          0.38065159953703187,
          -0.08426947240332083,
          -0.08423135335942789,
          -0.5047762159215381,
          -0.5047708984507153,
          0.5696793433321545,
          0.5696846608029773
         ],
         "z": [
          0.42498859763145447,
          0.4249902665615082,
          0.4499868154525757,
          0.4249882698059082,
          0.424986332654953,
          0.4249882698059082,
          0.4249882698059082,
          0.42498981952667236,
          0.4249893128871918,
          0.4249902367591858,
          0.42498862743377686,
          0,
          0,
          0.4249882698059082,
          0.4249882698059082,
          0.424986332654953,
          0.424986332654953,
          0.4249882698059082,
          0.4249882698059082,
          0.4249882698059082,
          0.4249882698059082
         ]
        }
       ],
       "layout": {
        "coloraxis": {
         "colorbar": {
          "title": {
           "text": "id"
          }
         },
         "colorscale": [
          [
           0,
           "#0d0887"
          ],
          [
           0.1111111111111111,
           "#46039f"
          ],
          [
           0.2222222222222222,
           "#7201a8"
          ],
          [
           0.3333333333333333,
           "#9c179e"
          ],
          [
           0.4444444444444444,
           "#bd3786"
          ],
          [
           0.5555555555555556,
           "#d8576b"
          ],
          [
           0.6666666666666666,
           "#ed7953"
          ],
          [
           0.7777777777777778,
           "#fb9f3a"
          ],
          [
           0.8888888888888888,
           "#fdca26"
          ],
          [
           1,
           "#f0f921"
          ]
         ]
        },
        "legend": {
         "tracegroupgap": 0
        },
        "margin": {
         "t": 60
        },
        "scene": {
         "domain": {
          "x": [
           0,
           1
          ],
          "y": [
           0,
           1
          ]
         },
         "xaxis": {
          "title": {
           "text": "x"
          }
         },
         "yaxis": {
          "title": {
           "text": "y"
          }
         },
         "zaxis": {
          "title": {
           "text": "z"
          }
         }
        },
        "template": {
         "data": {
          "bar": [
           {
            "error_x": {
             "color": "#2a3f5f"
            },
            "error_y": {
             "color": "#2a3f5f"
            },
            "marker": {
             "line": {
              "color": "#E5ECF6",
              "width": 0.5
             },
             "pattern": {
              "fillmode": "overlay",
              "size": 10,
              "solidity": 0.2
             }
            },
            "type": "bar"
           }
          ],
          "barpolar": [
           {
            "marker": {
             "line": {
              "color": "#E5ECF6",
              "width": 0.5
             },
             "pattern": {
              "fillmode": "overlay",
              "size": 10,
              "solidity": 0.2
             }
            },
            "type": "barpolar"
           }
          ],
          "carpet": [
           {
            "aaxis": {
             "endlinecolor": "#2a3f5f",
             "gridcolor": "white",
             "linecolor": "white",
             "minorgridcolor": "white",
             "startlinecolor": "#2a3f5f"
            },
            "baxis": {
             "endlinecolor": "#2a3f5f",
             "gridcolor": "white",
             "linecolor": "white",
             "minorgridcolor": "white",
             "startlinecolor": "#2a3f5f"
            },
            "type": "carpet"
           }
          ],
          "choropleth": [
           {
            "colorbar": {
             "outlinewidth": 0,
             "ticks": ""
            },
            "type": "choropleth"
           }
          ],
          "contour": [
           {
            "colorbar": {
             "outlinewidth": 0,
             "ticks": ""
            },
            "colorscale": [
             [
              0,
              "#0d0887"
             ],
             [
              0.1111111111111111,
              "#46039f"
             ],
             [
              0.2222222222222222,
              "#7201a8"
             ],
             [
              0.3333333333333333,
              "#9c179e"
             ],
             [
              0.4444444444444444,
              "#bd3786"
             ],
             [
              0.5555555555555556,
              "#d8576b"
             ],
             [
              0.6666666666666666,
              "#ed7953"
             ],
             [
              0.7777777777777778,
              "#fb9f3a"
             ],
             [
              0.8888888888888888,
              "#fdca26"
             ],
             [
              1,
              "#f0f921"
             ]
            ],
            "type": "contour"
           }
          ],
          "contourcarpet": [
           {
            "colorbar": {
             "outlinewidth": 0,
             "ticks": ""
            },
            "type": "contourcarpet"
           }
          ],
          "heatmap": [
           {
            "colorbar": {
             "outlinewidth": 0,
             "ticks": ""
            },
            "colorscale": [
             [
              0,
              "#0d0887"
             ],
             [
              0.1111111111111111,
              "#46039f"
             ],
             [
              0.2222222222222222,
              "#7201a8"
             ],
             [
              0.3333333333333333,
              "#9c179e"
             ],
             [
              0.4444444444444444,
              "#bd3786"
             ],
             [
              0.5555555555555556,
              "#d8576b"
             ],
             [
              0.6666666666666666,
              "#ed7953"
             ],
             [
              0.7777777777777778,
              "#fb9f3a"
             ],
             [
              0.8888888888888888,
              "#fdca26"
             ],
             [
              1,
              "#f0f921"
             ]
            ],
            "type": "heatmap"
           }
          ],
          "heatmapgl": [
           {
            "colorbar": {
             "outlinewidth": 0,
             "ticks": ""
            },
            "colorscale": [
             [
              0,
              "#0d0887"
             ],
             [
              0.1111111111111111,
              "#46039f"
             ],
             [
              0.2222222222222222,
              "#7201a8"
             ],
             [
              0.3333333333333333,
              "#9c179e"
             ],
             [
              0.4444444444444444,
              "#bd3786"
             ],
             [
              0.5555555555555556,
              "#d8576b"
             ],
             [
              0.6666666666666666,
              "#ed7953"
             ],
             [
              0.7777777777777778,
              "#fb9f3a"
             ],
             [
              0.8888888888888888,
              "#fdca26"
             ],
             [
              1,
              "#f0f921"
             ]
            ],
            "type": "heatmapgl"
           }
          ],
          "histogram": [
           {
            "marker": {
             "pattern": {
              "fillmode": "overlay",
              "size": 10,
              "solidity": 0.2
             }
            },
            "type": "histogram"
           }
          ],
          "histogram2d": [
           {
            "colorbar": {
             "outlinewidth": 0,
             "ticks": ""
            },
            "colorscale": [
             [
              0,
              "#0d0887"
             ],
             [
              0.1111111111111111,
              "#46039f"
             ],
             [
              0.2222222222222222,
              "#7201a8"
             ],
             [
              0.3333333333333333,
              "#9c179e"
             ],
             [
              0.4444444444444444,
              "#bd3786"
             ],
             [
              0.5555555555555556,
              "#d8576b"
             ],
             [
              0.6666666666666666,
              "#ed7953"
             ],
             [
              0.7777777777777778,
              "#fb9f3a"
             ],
             [
              0.8888888888888888,
              "#fdca26"
             ],
             [
              1,
              "#f0f921"
             ]
            ],
            "type": "histogram2d"
           }
          ],
          "histogram2dcontour": [
           {
            "colorbar": {
             "outlinewidth": 0,
             "ticks": ""
            },
            "colorscale": [
             [
              0,
              "#0d0887"
             ],
             [
              0.1111111111111111,
              "#46039f"
             ],
             [
              0.2222222222222222,
              "#7201a8"
             ],
             [
              0.3333333333333333,
              "#9c179e"
             ],
             [
              0.4444444444444444,
              "#bd3786"
             ],
             [
              0.5555555555555556,
              "#d8576b"
             ],
             [
              0.6666666666666666,
              "#ed7953"
             ],
             [
              0.7777777777777778,
              "#fb9f3a"
             ],
             [
              0.8888888888888888,
              "#fdca26"
             ],
             [
              1,
              "#f0f921"
             ]
            ],
            "type": "histogram2dcontour"
           }
          ],
          "mesh3d": [
           {
            "colorbar": {
             "outlinewidth": 0,
             "ticks": ""
            },
            "type": "mesh3d"
           }
          ],
          "parcoords": [
           {
            "line": {
             "colorbar": {
              "outlinewidth": 0,
              "ticks": ""
             }
            },
            "type": "parcoords"
           }
          ],
          "pie": [
           {
            "automargin": true,
            "type": "pie"
           }
          ],
          "scatter": [
           {
            "fillpattern": {
             "fillmode": "overlay",
             "size": 10,
             "solidity": 0.2
            },
            "type": "scatter"
           }
          ],
          "scatter3d": [
           {
            "line": {
             "colorbar": {
              "outlinewidth": 0,
              "ticks": ""
             }
            },
            "marker": {
             "colorbar": {
              "outlinewidth": 0,
              "ticks": ""
             }
            },
            "type": "scatter3d"
           }
          ],
          "scattercarpet": [
           {
            "marker": {
             "colorbar": {
              "outlinewidth": 0,
              "ticks": ""
             }
            },
            "type": "scattercarpet"
           }
          ],
          "scattergeo": [
           {
            "marker": {
             "colorbar": {
              "outlinewidth": 0,
              "ticks": ""
             }
            },
            "type": "scattergeo"
           }
          ],
          "scattergl": [
           {
            "marker": {
             "colorbar": {
              "outlinewidth": 0,
              "ticks": ""
             }
            },
            "type": "scattergl"
           }
          ],
          "scattermapbox": [
           {
            "marker": {
             "colorbar": {
              "outlinewidth": 0,
              "ticks": ""
             }
            },
            "type": "scattermapbox"
           }
          ],
          "scatterpolar": [
           {
            "marker": {
             "colorbar": {
              "outlinewidth": 0,
              "ticks": ""
             }
            },
            "type": "scatterpolar"
           }
          ],
          "scatterpolargl": [
           {
            "marker": {
             "colorbar": {
              "outlinewidth": 0,
              "ticks": ""
             }
            },
            "type": "scatterpolargl"
           }
          ],
          "scatterternary": [
           {
            "marker": {
             "colorbar": {
              "outlinewidth": 0,
              "ticks": ""
             }
            },
            "type": "scatterternary"
           }
          ],
          "surface": [
           {
            "colorbar": {
             "outlinewidth": 0,
             "ticks": ""
            },
            "colorscale": [
             [
              0,
              "#0d0887"
             ],
             [
              0.1111111111111111,
              "#46039f"
             ],
             [
              0.2222222222222222,
              "#7201a8"
             ],
             [
              0.3333333333333333,
              "#9c179e"
             ],
             [
              0.4444444444444444,
              "#bd3786"
             ],
             [
              0.5555555555555556,
              "#d8576b"
             ],
             [
              0.6666666666666666,
              "#ed7953"
             ],
             [
              0.7777777777777778,
              "#fb9f3a"
             ],
             [
              0.8888888888888888,
              "#fdca26"
             ],
             [
              1,
              "#f0f921"
             ]
            ],
            "type": "surface"
           }
          ],
          "table": [
           {
            "cells": {
             "fill": {
              "color": "#EBF0F8"
             },
             "line": {
              "color": "white"
             }
            },
            "header": {
             "fill": {
              "color": "#C8D4E3"
             },
             "line": {
              "color": "white"
             }
            },
            "type": "table"
           }
          ]
         },
         "layout": {
          "annotationdefaults": {
           "arrowcolor": "#2a3f5f",
           "arrowhead": 0,
           "arrowwidth": 1
          },
          "autotypenumbers": "strict",
          "coloraxis": {
           "colorbar": {
            "outlinewidth": 0,
            "ticks": ""
           }
          },
          "colorscale": {
           "diverging": [
            [
             0,
             "#8e0152"
            ],
            [
             0.1,
             "#c51b7d"
            ],
            [
             0.2,
             "#de77ae"
            ],
            [
             0.3,
             "#f1b6da"
            ],
            [
             0.4,
             "#fde0ef"
            ],
            [
             0.5,
             "#f7f7f7"
            ],
            [
             0.6,
             "#e6f5d0"
            ],
            [
             0.7,
             "#b8e186"
            ],
            [
             0.8,
             "#7fbc41"
            ],
            [
             0.9,
             "#4d9221"
            ],
            [
             1,
             "#276419"
            ]
           ],
           "sequential": [
            [
             0,
             "#0d0887"
            ],
            [
             0.1111111111111111,
             "#46039f"
            ],
            [
             0.2222222222222222,
             "#7201a8"
            ],
            [
             0.3333333333333333,
             "#9c179e"
            ],
            [
             0.4444444444444444,
             "#bd3786"
            ],
            [
             0.5555555555555556,
             "#d8576b"
            ],
            [
             0.6666666666666666,
             "#ed7953"
            ],
            [
             0.7777777777777778,
             "#fb9f3a"
            ],
            [
             0.8888888888888888,
             "#fdca26"
            ],
            [
             1,
             "#f0f921"
            ]
           ],
           "sequentialminus": [
            [
             0,
             "#0d0887"
            ],
            [
             0.1111111111111111,
             "#46039f"
            ],
            [
             0.2222222222222222,
             "#7201a8"
            ],
            [
             0.3333333333333333,
             "#9c179e"
            ],
            [
             0.4444444444444444,
             "#bd3786"
            ],
            [
             0.5555555555555556,
             "#d8576b"
            ],
            [
             0.6666666666666666,
             "#ed7953"
            ],
            [
             0.7777777777777778,
             "#fb9f3a"
            ],
            [
             0.8888888888888888,
             "#fdca26"
            ],
            [
             1,
             "#f0f921"
            ]
           ]
          },
          "colorway": [
           "#636efa",
           "#EF553B",
           "#00cc96",
           "#ab63fa",
           "#FFA15A",
           "#19d3f3",
           "#FF6692",
           "#B6E880",
           "#FF97FF",
           "#FECB52"
          ],
          "font": {
           "color": "#2a3f5f"
          },
          "geo": {
           "bgcolor": "white",
           "lakecolor": "white",
           "landcolor": "#E5ECF6",
           "showlakes": true,
           "showland": true,
           "subunitcolor": "white"
          },
          "hoverlabel": {
           "align": "left"
          },
          "hovermode": "closest",
          "mapbox": {
           "style": "light"
          },
          "paper_bgcolor": "white",
          "plot_bgcolor": "#E5ECF6",
          "polar": {
           "angularaxis": {
            "gridcolor": "white",
            "linecolor": "white",
            "ticks": ""
           },
           "bgcolor": "#E5ECF6",
           "radialaxis": {
            "gridcolor": "white",
            "linecolor": "white",
            "ticks": ""
           }
          },
          "scene": {
           "xaxis": {
            "backgroundcolor": "#E5ECF6",
            "gridcolor": "white",
            "gridwidth": 2,
            "linecolor": "white",
            "showbackground": true,
            "ticks": "",
            "zerolinecolor": "white"
           },
           "yaxis": {
            "backgroundcolor": "#E5ECF6",
            "gridcolor": "white",
            "gridwidth": 2,
            "linecolor": "white",
            "showbackground": true,
            "ticks": "",
            "zerolinecolor": "white"
           },
           "zaxis": {
            "backgroundcolor": "#E5ECF6",
            "gridcolor": "white",
            "gridwidth": 2,
            "linecolor": "white",
            "showbackground": true,
            "ticks": "",
            "zerolinecolor": "white"
           }
          },
          "shapedefaults": {
           "line": {
            "color": "#2a3f5f"
           }
          },
          "ternary": {
           "aaxis": {
            "gridcolor": "white",
            "linecolor": "white",
            "ticks": ""
           },
           "baxis": {
            "gridcolor": "white",
            "linecolor": "white",
            "ticks": ""
           },
           "bgcolor": "#E5ECF6",
           "caxis": {
            "gridcolor": "white",
            "linecolor": "white",
            "ticks": ""
           }
          },
          "title": {
           "x": 0.05
          },
          "xaxis": {
           "automargin": true,
           "gridcolor": "white",
           "linecolor": "white",
           "ticks": "",
           "title": {
            "standoff": 15
           },
           "zerolinecolor": "white",
           "zerolinewidth": 2
          },
          "yaxis": {
           "automargin": true,
           "gridcolor": "white",
           "linecolor": "white",
           "ticks": "",
           "title": {
            "standoff": 15
           },
           "zerolinecolor": "white",
           "zerolinewidth": 2
          }
         }
        }
       }
      }
     },
     "metadata": {},
     "output_type": "display_data"
    }
   ],
   "source": [
    "import plotly.graph_objects as go\n",
    "import plotly.express as px\n",
    "sample = dataset[k]\n",
    "s = copy.deepcopy(sample[\"state\"]).numpy()\n",
    "s = np.concatenate( [s,np.arange(0,13,1).reshape(-1,1)], axis = 1)\n",
    "extensions = []\n",
    "for obj in s:\n",
    "    if obj[9] > 3:\n",
    "        ext = copy.deepcopy(obj)\n",
    "        ext2 = copy.deepcopy(obj)\n",
    "        ds = 0.125\n",
    "        \n",
    "        ext[0] += ds * ext[7]\n",
    "        ext[1] += ds * ext[8]\n",
    "        ext2[0] -= ds * ext[7]\n",
    "        ext2[1] -= ds * ext[8]\n",
    "        extensions.append(ext)\n",
    "        extensions.append(ext2)\n",
    "extensions = np.array(extensions)\n",
    "s = np.concatenate([s, np.array(extensions)], axis = 0)\n",
    "fig = go.Figure()\n",
    "fig = px.scatter_3d(s, x = 0, y = 1, z = 2, color = 10, hover_data=[10, 9] ,labels = {\"0\" : \"x\", \"1\": \"y\", \"2\":\"z\", \"9\":\"type\", \"10\": \"id\"}, opacity = 0.7)\n",
    "fig.show()\n",
    "# input()"
   ]
  },
  {
   "cell_type": "code",
   "execution_count": 9,
   "metadata": {},
   "outputs": [
    {
     "data": {
      "application/vnd.plotly.v1+json": {
       "config": {
        "plotlyServerURL": "https://plot.ly"
       },
       "data": [
        {
         "customdata": [
          [
           0,
           1
          ],
          [
           1,
           2
          ],
          [
           2,
           3
          ],
          [
           3,
           4
          ],
          [
           4,
           5
          ],
          [
           5,
           4
          ],
          [
           6,
           4
          ],
          [
           7,
           2
          ],
          [
           8,
           2
          ],
          [
           9,
           2
          ],
          [
           10,
           2
          ],
          [
           11,
           0
          ],
          [
           12,
           0
          ],
          [
           3,
           4
          ],
          [
           3,
           4
          ],
          [
           4,
           5
          ],
          [
           4,
           5
          ],
          [
           5,
           4
          ],
          [
           5,
           4
          ],
          [
           6,
           4
          ],
          [
           6,
           4
          ]
         ],
         "hovertemplate": "x=%{x}<br>y=%{y}<br>z=%{z}<br>id=%{marker.color}<br>type=%{customdata[1]}<extra></extra>",
         "legendgroup": "",
         "marker": {
          "color": [
           0,
           1,
           2,
           3,
           4,
           5,
           6,
           7,
           8,
           9,
           10,
           11,
           12,
           3,
           3,
           4,
           4,
           5,
           5,
           6,
           6
          ],
          "coloraxis": "coloraxis",
          "opacity": 0.7,
          "symbol": "circle"
         },
         "mode": "markers",
         "name": "",
         "scene": "scene",
         "showlegend": false,
         "type": "scatter3d",
         "x": [
          0.8998899459838867,
          0.631862223148346,
          1.0161552429199219,
          0.6316855549812317,
          1.0272008180618286,
          0.7367095947265625,
          0.31066468358039856,
          0.9335752129554749,
          0.977879524230957,
          0.785945475101471,
          0.5127434134483337,
          0,
          0,
          0.7566855400800705,
          0.5066855698823929,
          0.9022010862827301,
          1.1522005498409271,
          0.8617095872759819,
          0.6117096021771431,
          0.43566467612981796,
          0.18566469103097916
         ],
         "y": [
          -0.5891342759132385,
          0.4811409115791321,
          -0.5070978999137878,
          0.3810519278049469,
          -0.0841168761253357,
          -0.5047262907028198,
          0.569728672504425,
          -0.37284713983535767,
          0.4125140309333801,
          0.6965309977531433,
          0.06179351359605789,
          0,
          0,
          0.3811169864493422,
          0.3809868691605516,
          -0.08437470882199705,
          -0.08385904342867434,
          -0.5047703789423394,
          -0.5046822024633002,
          0.5696851709944895,
          0.5697721740143606
         ],
         "z": [
          0.42498859763145447,
          0.4749782979488373,
          0.4499868154525757,
          0.42498770356178284,
          0.42498767375946045,
          0.4249882698059082,
          0.4249882698059082,
          0.42498981952667236,
          0.4249893128871918,
          0.4249902367591858,
          0.4249882698059082,
          0,
          0,
          0.42498770356178284,
          0.42498770356178284,
          0.42498767375946045,
          0.42498767375946045,
          0.4249882698059082,
          0.4249882698059082,
          0.4249882698059082,
          0.4249882698059082
         ]
        }
       ],
       "layout": {
        "coloraxis": {
         "colorbar": {
          "title": {
           "text": "id"
          }
         },
         "colorscale": [
          [
           0,
           "#0d0887"
          ],
          [
           0.1111111111111111,
           "#46039f"
          ],
          [
           0.2222222222222222,
           "#7201a8"
          ],
          [
           0.3333333333333333,
           "#9c179e"
          ],
          [
           0.4444444444444444,
           "#bd3786"
          ],
          [
           0.5555555555555556,
           "#d8576b"
          ],
          [
           0.6666666666666666,
           "#ed7953"
          ],
          [
           0.7777777777777778,
           "#fb9f3a"
          ],
          [
           0.8888888888888888,
           "#fdca26"
          ],
          [
           1,
           "#f0f921"
          ]
         ]
        },
        "legend": {
         "tracegroupgap": 0
        },
        "margin": {
         "t": 60
        },
        "scene": {
         "domain": {
          "x": [
           0,
           1
          ],
          "y": [
           0,
           1
          ]
         },
         "xaxis": {
          "title": {
           "text": "x"
          }
         },
         "yaxis": {
          "title": {
           "text": "y"
          }
         },
         "zaxis": {
          "title": {
           "text": "z"
          }
         }
        },
        "template": {
         "data": {
          "bar": [
           {
            "error_x": {
             "color": "#2a3f5f"
            },
            "error_y": {
             "color": "#2a3f5f"
            },
            "marker": {
             "line": {
              "color": "#E5ECF6",
              "width": 0.5
             },
             "pattern": {
              "fillmode": "overlay",
              "size": 10,
              "solidity": 0.2
             }
            },
            "type": "bar"
           }
          ],
          "barpolar": [
           {
            "marker": {
             "line": {
              "color": "#E5ECF6",
              "width": 0.5
             },
             "pattern": {
              "fillmode": "overlay",
              "size": 10,
              "solidity": 0.2
             }
            },
            "type": "barpolar"
           }
          ],
          "carpet": [
           {
            "aaxis": {
             "endlinecolor": "#2a3f5f",
             "gridcolor": "white",
             "linecolor": "white",
             "minorgridcolor": "white",
             "startlinecolor": "#2a3f5f"
            },
            "baxis": {
             "endlinecolor": "#2a3f5f",
             "gridcolor": "white",
             "linecolor": "white",
             "minorgridcolor": "white",
             "startlinecolor": "#2a3f5f"
            },
            "type": "carpet"
           }
          ],
          "choropleth": [
           {
            "colorbar": {
             "outlinewidth": 0,
             "ticks": ""
            },
            "type": "choropleth"
           }
          ],
          "contour": [
           {
            "colorbar": {
             "outlinewidth": 0,
             "ticks": ""
            },
            "colorscale": [
             [
              0,
              "#0d0887"
             ],
             [
              0.1111111111111111,
              "#46039f"
             ],
             [
              0.2222222222222222,
              "#7201a8"
             ],
             [
              0.3333333333333333,
              "#9c179e"
             ],
             [
              0.4444444444444444,
              "#bd3786"
             ],
             [
              0.5555555555555556,
              "#d8576b"
             ],
             [
              0.6666666666666666,
              "#ed7953"
             ],
             [
              0.7777777777777778,
              "#fb9f3a"
             ],
             [
              0.8888888888888888,
              "#fdca26"
             ],
             [
              1,
              "#f0f921"
             ]
            ],
            "type": "contour"
           }
          ],
          "contourcarpet": [
           {
            "colorbar": {
             "outlinewidth": 0,
             "ticks": ""
            },
            "type": "contourcarpet"
           }
          ],
          "heatmap": [
           {
            "colorbar": {
             "outlinewidth": 0,
             "ticks": ""
            },
            "colorscale": [
             [
              0,
              "#0d0887"
             ],
             [
              0.1111111111111111,
              "#46039f"
             ],
             [
              0.2222222222222222,
              "#7201a8"
             ],
             [
              0.3333333333333333,
              "#9c179e"
             ],
             [
              0.4444444444444444,
              "#bd3786"
             ],
             [
              0.5555555555555556,
              "#d8576b"
             ],
             [
              0.6666666666666666,
              "#ed7953"
             ],
             [
              0.7777777777777778,
              "#fb9f3a"
             ],
             [
              0.8888888888888888,
              "#fdca26"
             ],
             [
              1,
              "#f0f921"
             ]
            ],
            "type": "heatmap"
           }
          ],
          "heatmapgl": [
           {
            "colorbar": {
             "outlinewidth": 0,
             "ticks": ""
            },
            "colorscale": [
             [
              0,
              "#0d0887"
             ],
             [
              0.1111111111111111,
              "#46039f"
             ],
             [
              0.2222222222222222,
              "#7201a8"
             ],
             [
              0.3333333333333333,
              "#9c179e"
             ],
             [
              0.4444444444444444,
              "#bd3786"
             ],
             [
              0.5555555555555556,
              "#d8576b"
             ],
             [
              0.6666666666666666,
              "#ed7953"
             ],
             [
              0.7777777777777778,
              "#fb9f3a"
             ],
             [
              0.8888888888888888,
              "#fdca26"
             ],
             [
              1,
              "#f0f921"
             ]
            ],
            "type": "heatmapgl"
           }
          ],
          "histogram": [
           {
            "marker": {
             "pattern": {
              "fillmode": "overlay",
              "size": 10,
              "solidity": 0.2
             }
            },
            "type": "histogram"
           }
          ],
          "histogram2d": [
           {
            "colorbar": {
             "outlinewidth": 0,
             "ticks": ""
            },
            "colorscale": [
             [
              0,
              "#0d0887"
             ],
             [
              0.1111111111111111,
              "#46039f"
             ],
             [
              0.2222222222222222,
              "#7201a8"
             ],
             [
              0.3333333333333333,
              "#9c179e"
             ],
             [
              0.4444444444444444,
              "#bd3786"
             ],
             [
              0.5555555555555556,
              "#d8576b"
             ],
             [
              0.6666666666666666,
              "#ed7953"
             ],
             [
              0.7777777777777778,
              "#fb9f3a"
             ],
             [
              0.8888888888888888,
              "#fdca26"
             ],
             [
              1,
              "#f0f921"
             ]
            ],
            "type": "histogram2d"
           }
          ],
          "histogram2dcontour": [
           {
            "colorbar": {
             "outlinewidth": 0,
             "ticks": ""
            },
            "colorscale": [
             [
              0,
              "#0d0887"
             ],
             [
              0.1111111111111111,
              "#46039f"
             ],
             [
              0.2222222222222222,
              "#7201a8"
             ],
             [
              0.3333333333333333,
              "#9c179e"
             ],
             [
              0.4444444444444444,
              "#bd3786"
             ],
             [
              0.5555555555555556,
              "#d8576b"
             ],
             [
              0.6666666666666666,
              "#ed7953"
             ],
             [
              0.7777777777777778,
              "#fb9f3a"
             ],
             [
              0.8888888888888888,
              "#fdca26"
             ],
             [
              1,
              "#f0f921"
             ]
            ],
            "type": "histogram2dcontour"
           }
          ],
          "mesh3d": [
           {
            "colorbar": {
             "outlinewidth": 0,
             "ticks": ""
            },
            "type": "mesh3d"
           }
          ],
          "parcoords": [
           {
            "line": {
             "colorbar": {
              "outlinewidth": 0,
              "ticks": ""
             }
            },
            "type": "parcoords"
           }
          ],
          "pie": [
           {
            "automargin": true,
            "type": "pie"
           }
          ],
          "scatter": [
           {
            "fillpattern": {
             "fillmode": "overlay",
             "size": 10,
             "solidity": 0.2
            },
            "type": "scatter"
           }
          ],
          "scatter3d": [
           {
            "line": {
             "colorbar": {
              "outlinewidth": 0,
              "ticks": ""
             }
            },
            "marker": {
             "colorbar": {
              "outlinewidth": 0,
              "ticks": ""
             }
            },
            "type": "scatter3d"
           }
          ],
          "scattercarpet": [
           {
            "marker": {
             "colorbar": {
              "outlinewidth": 0,
              "ticks": ""
             }
            },
            "type": "scattercarpet"
           }
          ],
          "scattergeo": [
           {
            "marker": {
             "colorbar": {
              "outlinewidth": 0,
              "ticks": ""
             }
            },
            "type": "scattergeo"
           }
          ],
          "scattergl": [
           {
            "marker": {
             "colorbar": {
              "outlinewidth": 0,
              "ticks": ""
             }
            },
            "type": "scattergl"
           }
          ],
          "scattermapbox": [
           {
            "marker": {
             "colorbar": {
              "outlinewidth": 0,
              "ticks": ""
             }
            },
            "type": "scattermapbox"
           }
          ],
          "scatterpolar": [
           {
            "marker": {
             "colorbar": {
              "outlinewidth": 0,
              "ticks": ""
             }
            },
            "type": "scatterpolar"
           }
          ],
          "scatterpolargl": [
           {
            "marker": {
             "colorbar": {
              "outlinewidth": 0,
              "ticks": ""
             }
            },
            "type": "scatterpolargl"
           }
          ],
          "scatterternary": [
           {
            "marker": {
             "colorbar": {
              "outlinewidth": 0,
              "ticks": ""
             }
            },
            "type": "scatterternary"
           }
          ],
          "surface": [
           {
            "colorbar": {
             "outlinewidth": 0,
             "ticks": ""
            },
            "colorscale": [
             [
              0,
              "#0d0887"
             ],
             [
              0.1111111111111111,
              "#46039f"
             ],
             [
              0.2222222222222222,
              "#7201a8"
             ],
             [
              0.3333333333333333,
              "#9c179e"
             ],
             [
              0.4444444444444444,
              "#bd3786"
             ],
             [
              0.5555555555555556,
              "#d8576b"
             ],
             [
              0.6666666666666666,
              "#ed7953"
             ],
             [
              0.7777777777777778,
              "#fb9f3a"
             ],
             [
              0.8888888888888888,
              "#fdca26"
             ],
             [
              1,
              "#f0f921"
             ]
            ],
            "type": "surface"
           }
          ],
          "table": [
           {
            "cells": {
             "fill": {
              "color": "#EBF0F8"
             },
             "line": {
              "color": "white"
             }
            },
            "header": {
             "fill": {
              "color": "#C8D4E3"
             },
             "line": {
              "color": "white"
             }
            },
            "type": "table"
           }
          ]
         },
         "layout": {
          "annotationdefaults": {
           "arrowcolor": "#2a3f5f",
           "arrowhead": 0,
           "arrowwidth": 1
          },
          "autotypenumbers": "strict",
          "coloraxis": {
           "colorbar": {
            "outlinewidth": 0,
            "ticks": ""
           }
          },
          "colorscale": {
           "diverging": [
            [
             0,
             "#8e0152"
            ],
            [
             0.1,
             "#c51b7d"
            ],
            [
             0.2,
             "#de77ae"
            ],
            [
             0.3,
             "#f1b6da"
            ],
            [
             0.4,
             "#fde0ef"
            ],
            [
             0.5,
             "#f7f7f7"
            ],
            [
             0.6,
             "#e6f5d0"
            ],
            [
             0.7,
             "#b8e186"
            ],
            [
             0.8,
             "#7fbc41"
            ],
            [
             0.9,
             "#4d9221"
            ],
            [
             1,
             "#276419"
            ]
           ],
           "sequential": [
            [
             0,
             "#0d0887"
            ],
            [
             0.1111111111111111,
             "#46039f"
            ],
            [
             0.2222222222222222,
             "#7201a8"
            ],
            [
             0.3333333333333333,
             "#9c179e"
            ],
            [
             0.4444444444444444,
             "#bd3786"
            ],
            [
             0.5555555555555556,
             "#d8576b"
            ],
            [
             0.6666666666666666,
             "#ed7953"
            ],
            [
             0.7777777777777778,
             "#fb9f3a"
            ],
            [
             0.8888888888888888,
             "#fdca26"
            ],
            [
             1,
             "#f0f921"
            ]
           ],
           "sequentialminus": [
            [
             0,
             "#0d0887"
            ],
            [
             0.1111111111111111,
             "#46039f"
            ],
            [
             0.2222222222222222,
             "#7201a8"
            ],
            [
             0.3333333333333333,
             "#9c179e"
            ],
            [
             0.4444444444444444,
             "#bd3786"
            ],
            [
             0.5555555555555556,
             "#d8576b"
            ],
            [
             0.6666666666666666,
             "#ed7953"
            ],
            [
             0.7777777777777778,
             "#fb9f3a"
            ],
            [
             0.8888888888888888,
             "#fdca26"
            ],
            [
             1,
             "#f0f921"
            ]
           ]
          },
          "colorway": [
           "#636efa",
           "#EF553B",
           "#00cc96",
           "#ab63fa",
           "#FFA15A",
           "#19d3f3",
           "#FF6692",
           "#B6E880",
           "#FF97FF",
           "#FECB52"
          ],
          "font": {
           "color": "#2a3f5f"
          },
          "geo": {
           "bgcolor": "white",
           "lakecolor": "white",
           "landcolor": "#E5ECF6",
           "showlakes": true,
           "showland": true,
           "subunitcolor": "white"
          },
          "hoverlabel": {
           "align": "left"
          },
          "hovermode": "closest",
          "mapbox": {
           "style": "light"
          },
          "paper_bgcolor": "white",
          "plot_bgcolor": "#E5ECF6",
          "polar": {
           "angularaxis": {
            "gridcolor": "white",
            "linecolor": "white",
            "ticks": ""
           },
           "bgcolor": "#E5ECF6",
           "radialaxis": {
            "gridcolor": "white",
            "linecolor": "white",
            "ticks": ""
           }
          },
          "scene": {
           "xaxis": {
            "backgroundcolor": "#E5ECF6",
            "gridcolor": "white",
            "gridwidth": 2,
            "linecolor": "white",
            "showbackground": true,
            "ticks": "",
            "zerolinecolor": "white"
           },
           "yaxis": {
            "backgroundcolor": "#E5ECF6",
            "gridcolor": "white",
            "gridwidth": 2,
            "linecolor": "white",
            "showbackground": true,
            "ticks": "",
            "zerolinecolor": "white"
           },
           "zaxis": {
            "backgroundcolor": "#E5ECF6",
            "gridcolor": "white",
            "gridwidth": 2,
            "linecolor": "white",
            "showbackground": true,
            "ticks": "",
            "zerolinecolor": "white"
           }
          },
          "shapedefaults": {
           "line": {
            "color": "#2a3f5f"
           }
          },
          "ternary": {
           "aaxis": {
            "gridcolor": "white",
            "linecolor": "white",
            "ticks": ""
           },
           "baxis": {
            "gridcolor": "white",
            "linecolor": "white",
            "ticks": ""
           },
           "bgcolor": "#E5ECF6",
           "caxis": {
            "gridcolor": "white",
            "linecolor": "white",
            "ticks": ""
           }
          },
          "title": {
           "x": 0.05
          },
          "xaxis": {
           "automargin": true,
           "gridcolor": "white",
           "linecolor": "white",
           "ticks": "",
           "title": {
            "standoff": 15
           },
           "zerolinecolor": "white",
           "zerolinewidth": 2
          },
          "yaxis": {
           "automargin": true,
           "gridcolor": "white",
           "linecolor": "white",
           "ticks": "",
           "title": {
            "standoff": 15
           },
           "zerolinecolor": "white",
           "zerolinewidth": 2
          }
         }
        }
       }
      }
     },
     "metadata": {},
     "output_type": "display_data"
    }
   ],
   "source": [
    "import plotly.graph_objects as go\n",
    "import plotly.express as px\n",
    "sample = dataset[k+1]\n",
    "s = copy.deepcopy(sample[\"state\"]).numpy()\n",
    "s = np.concatenate( [s,np.arange(0,13,1).reshape(-1,1)], axis = 1)\n",
    "extensions = []\n",
    "for obj in s:\n",
    "    if obj[9] > 3:\n",
    "        ext = copy.deepcopy(obj)\n",
    "        ext2 = copy.deepcopy(obj)\n",
    "        ds = 0.125\n",
    "        \n",
    "        ext[0] += ds * ext[7]\n",
    "        ext[1] += ds * ext[8]\n",
    "        ext2[0] -= ds * ext[7]\n",
    "        ext2[1] -= ds * ext[8]\n",
    "        extensions.append(ext)\n",
    "        extensions.append(ext2)\n",
    "extensions = np.array(extensions)\n",
    "s = np.concatenate([s, np.array(extensions)], axis = 0)\n",
    "fig = go.Figure()\n",
    "fig = px.scatter_3d(s, x = 0, y = 1, z = 2, color = 10, hover_data=[10, 9] ,labels = {\"0\" : \"x\", \"1\": \"y\", \"2\":\"z\", \"9\":\"type\", \"10\": \"id\"}, opacity = 0.7)\n",
    "fig.show()\n",
    "# input()"
   ]
  },
  {
   "cell_type": "code",
   "execution_count": 10,
   "metadata": {},
   "outputs": [
    {
     "data": {
      "text/plain": [
       "array([[ 0.,  0.,  0.,  0.,  0.,  0., -1.,  0.,  0.],\n",
       "       [ 1.,  1.,  0.,  0.,  0.,  0., -1.,  0.,  0.],\n",
       "       [ 2.,  0.,  0.,  0.,  0.,  0., -1.,  0.,  0.],\n",
       "       [ 3.,  0.,  1.,  0.,  0.,  0., -1.,  0.,  0.],\n",
       "       [ 4.,  0.,  0.,  0.,  0.,  0., -1.,  0.,  0.],\n",
       "       [ 5.,  0.,  0.,  0.,  0.,  0., -1.,  0.,  0.],\n",
       "       [ 6.,  0.,  0.,  0.,  0.,  0., -1.,  0.,  0.],\n",
       "       [ 7.,  0.,  0.,  0.,  0.,  0., -1.,  0.,  0.],\n",
       "       [ 8.,  0.,  0.,  0.,  0.,  0., -1.,  0.,  0.],\n",
       "       [ 9.,  0.,  0.,  0.,  0.,  0., -1.,  0.,  0.],\n",
       "       [10.,  0.,  0.,  0.,  0.,  0., -1.,  0.,  0.],\n",
       "       [11.,  0.,  0.,  0.,  0.,  0., -1.,  0.,  0.],\n",
       "       [12.,  0.,  0.,  0.,  0.,  0., -1.,  0.,  0.]])"
      ]
     },
     "execution_count": 10,
     "metadata": {},
     "output_type": "execute_result"
    }
   ],
   "source": [
    "s = copy.deepcopy(sample[\"action\"]).numpy()\n",
    "s = np.concatenate( [np.arange(0,13,1).reshape(-1,1),s], axis = 1)\n",
    "s"
   ]
  },
  {
   "cell_type": "code",
   "execution_count": 11,
   "metadata": {},
   "outputs": [],
   "source": [
    "def single_iteration_data(data):\n",
    "    d = {}\n",
    "    for key in [\"action\", \"state\", \"effect\"]:\n",
    "        d[key] = data[key].unsqueeze(0).expand(-1, 13, -1)\n",
    "    d[\"pad_mask\"] = data[\"pad_mask\"].unsqueeze(0).expand(-1, 13)\n",
    "    return d"
   ]
  },
  {
   "cell_type": "code",
   "execution_count": 12,
   "metadata": {},
   "outputs": [
    {
     "name": "stdout",
     "output_type": "stream",
     "text": [
      "tensor(8.4548, device='cuda:0')\n"
     ]
    }
   ],
   "source": [
    "with torch.no_grad():\n",
    "    loss, pred = model.loss_with_pred(single_iteration_data(sample))\n",
    "print(loss)\n",
    "pred = pred.cpu()[0]"
   ]
  },
  {
   "cell_type": "code",
   "execution_count": 13,
   "metadata": {},
   "outputs": [
    {
     "ename": "TypeError",
     "evalue": "append() takes no keyword arguments",
     "output_type": "error",
     "traceback": [
      "\u001b[0;31m---------------------------------------------------------------------------\u001b[0m",
      "\u001b[0;31mTypeError\u001b[0m                                 Traceback (most recent call last)",
      "Cell \u001b[0;32mIn [13], line 10\u001b[0m\n\u001b[1;32m      7\u001b[0m u,v,w, u2, v2,w2 \u001b[39m=\u001b[39m effect[:,\u001b[39m0\u001b[39m]\u001b[39m.\u001b[39mnumpy() ,effect[:,\u001b[39m1\u001b[39m]\u001b[39m.\u001b[39mnumpy() ,effect[:,\u001b[39m2\u001b[39m]\u001b[39m.\u001b[39mnumpy() ,pred[:,\u001b[39m0\u001b[39m]\u001b[39m.\u001b[39mnumpy() ,pred[:,\u001b[39m1\u001b[39m]\u001b[39m.\u001b[39mnumpy() ,pred[:,\u001b[39m2\u001b[39m]\u001b[39m.\u001b[39mnumpy() \n\u001b[1;32m      9\u001b[0m \u001b[39mfor\u001b[39;00m i \u001b[39min\u001b[39;00m \u001b[39mrange\u001b[39m(\u001b[39m13\u001b[39m):\n\u001b[0;32m---> 10\u001b[0m     xy\u001b[39m.\u001b[39;49mappend(fig\u001b[39m.\u001b[39;49madd_subplot( \u001b[39m13\u001b[39;49m,\u001b[39m3\u001b[39;49m,i\u001b[39m*\u001b[39;49m\u001b[39m3\u001b[39;49m \u001b[39m+\u001b[39;49m \u001b[39m1\u001b[39;49m , xlabel\u001b[39m=\u001b[39;49m\u001b[39m\"\u001b[39;49m\u001b[39mx\u001b[39;49m\u001b[39m\"\u001b[39;49m, ylabel\u001b[39m=\u001b[39;49m\u001b[39m\"\u001b[39;49m\u001b[39my\u001b[39;49m\u001b[39m\"\u001b[39;49m ), x_lim \u001b[39m=\u001b[39;49m (\u001b[39m0.3\u001b[39;49m , \u001b[39m1.3\u001b[39;49m), y_lim \u001b[39m=\u001b[39;49m (\u001b[39m-\u001b[39;49m\u001b[39m0.5\u001b[39;49m, \u001b[39m0.5\u001b[39;49m))\n\u001b[1;32m     11\u001b[0m     yz\u001b[39m.\u001b[39mappend(fig\u001b[39m.\u001b[39madd_subplot( \u001b[39m13\u001b[39m,\u001b[39m3\u001b[39m,i\u001b[39m*\u001b[39m\u001b[39m3\u001b[39m \u001b[39m+\u001b[39m \u001b[39m2\u001b[39m , xlabel\u001b[39m=\u001b[39m\u001b[39m\"\u001b[39m\u001b[39my\u001b[39m\u001b[39m\"\u001b[39m, ylabel\u001b[39m=\u001b[39m\u001b[39m\"\u001b[39m\u001b[39mz\u001b[39m\u001b[39m\"\u001b[39m ), x_lim \u001b[39m=\u001b[39m (\u001b[39m0.3\u001b[39m , \u001b[39m1.3\u001b[39m), y_lim \u001b[39m=\u001b[39m (\u001b[39m-\u001b[39m\u001b[39m0.5\u001b[39m, \u001b[39m0.5\u001b[39m))\n\u001b[1;32m     12\u001b[0m     xz\u001b[39m.\u001b[39mappend(fig\u001b[39m.\u001b[39madd_subplot( \u001b[39m13\u001b[39m,\u001b[39m3\u001b[39m,i\u001b[39m*\u001b[39m\u001b[39m3\u001b[39m \u001b[39m+\u001b[39m \u001b[39m3\u001b[39m  , xlabel\u001b[39m=\u001b[39m\u001b[39m\"\u001b[39m\u001b[39mx\u001b[39m\u001b[39m\"\u001b[39m, ylabel\u001b[39m=\u001b[39m\u001b[39m\"\u001b[39m\u001b[39mz\u001b[39m\u001b[39m\"\u001b[39m), x_lim \u001b[39m=\u001b[39m (\u001b[39m0.3\u001b[39m , \u001b[39m1.3\u001b[39m), y_lim \u001b[39m=\u001b[39m (\u001b[39m-\u001b[39m\u001b[39m0.5\u001b[39m, \u001b[39m0.5\u001b[39m))\n",
      "\u001b[0;31mTypeError\u001b[0m: append() takes no keyword arguments"
     ]
    },
    {
     "data": {
      "image/png": "[encoded data removed]",
      "text/plain": [
       "<Figure size 1700x3900 with 1 Axes>"
      ]
     },
     "metadata": {},
     "output_type": "display_data"
    }
   ],
   "source": [
    "fig = plt.figure(figsize=( 17, 39))\n",
    "xy , yz , xz = [], [], []\n",
    "\n",
    "state = sample[\"state\"]\n",
    "effect = sample[\"effect\"]\n",
    "x, y, z =state[:, 0].numpy() ,state[:, 1].numpy() ,state[:, 2].numpy() \n",
    "u,v,w, u2, v2,w2 = effect[:,0].numpy() ,effect[:,1].numpy() ,effect[:,2].numpy() ,pred[:,0].numpy() ,pred[:,1].numpy() ,pred[:,2].numpy() \n",
    "\n",
    "for i in range(13):\n",
    "    xy.append(fig.add_subplot( 13,3,i*3 + 1 , xlabel=\"x\", ylabel=\"y\" , x_lim = (0.3 , 1.3), y_lim = (-0.5, 0.5)) )\n",
    "    yz.append(fig.add_subplot( 13,3,i*3 + 2 , xlabel=\"y\", ylabel=\"z\" , x_lim = (0.3 , 1.3), y_lim = (-0.5, 0.5)) )\n",
    "    xz.append(fig.add_subplot( 13,3,i*3 + 3  , xlabel=\"x\", ylabel=\"z\", x_lim = (0.3 , 1.3), y_lim = (-0.5, 0.5)) )\n",
    "\n",
    "\n",
    "for i in range(13):\n",
    "    yz[i].plot([y[i],y[i] + v2[i]],[z[i], z[i]+ w2[i]],color =\"r\", label= \"prediction\", alpha= 0.7)\n",
    "    xz[i].plot([x[i],x[i] + u2[i]],[z[i], z[i]+ w2[i]],color =\"r\", label= \"prediction\", alpha= 0.7)\n",
    "    xy[i].plot([x[i],x[i] + u2[i]],[y[i], y[i]+ v2[i]],color =\"r\", label= \"prediction\", alpha= 0.7)\n",
    "    xy[i].plot([x[i],x[i] + u[i]],[y[i], y[i]+ v[i]],  color =\"b\", label= \"effect\")\n",
    "    yz[i].plot([y[i],y[i] + v[i]],[z[i], z[i]+ w[i]],  color =\"b\", label= \"effect\")\n",
    "    xz[i].plot([x[i],x[i] + u[i]],[z[i], z[i]+ w[i]],  color =\"b\", label= \"effect\")\n",
    "    if sample[\"pad_mask\"][i] == 0:\n",
    "        xy[i].set_ylabel(\"Non existent object\")\n",
    "\n",
    "xy[0].legend(bbox_to_anchor=(0., 1.02, 1., .102), loc='lower left',\n",
    "                      ncols=2, mode=\"expand\", borderaxespad=0.)\n"
   ]
  },
  {
   "cell_type": "code",
   "execution_count": null,
   "metadata": {},
   "outputs": [
    {
     "data": {
      "text/plain": [
       "<matplotlib.legend.Legend at 0x7fd3cc265fa0>"
      ]
     },
     "execution_count": 25,
     "metadata": {},
     "output_type": "execute_result"
    },
    {
     "data": {
      "image/png": "[encoded data removed]",
      "text/plain": [
       "<Figure size 1700x3900 with 39 Axes>"
      ]
     },
     "metadata": {},
     "output_type": "display_data"
    }
   ],
   "source": [
    "\n",
    "fig = plt.figure(figsize=( 17, 39))\n",
    "xy , yz , xz = [], [], []\n",
    "\n",
    "state = sample[\"state\"]\n",
    "effect = sample[\"effect\"]\n",
    "x, y, z =state[:, 0].numpy() ,state[:, 1].numpy() ,state[:, 2].numpy() \n",
    "u,v,w, u2, v2,w2 = effect[:,9].numpy() ,effect[:,10].numpy() ,effect[:,11].numpy() ,pred[:,9].numpy() ,pred[:,10].numpy() ,pred[:,11].numpy() \n",
    "\n",
    "for i in range(13):\n",
    "    xy.append(fig.add_subplot( 13,3,i*3 + 1 , xlabel=\"x\", ylabel=\"y\" , xlim = (0.3, 1.4), ylim =(-0.5,0.5)))\n",
    "    yz.append(fig.add_subplot( 13,3,i*3 + 2 , xlabel=\"y\", ylabel=\"z\" , xlim = (-0.5,0.5), ylim =(-0.1,1)))\n",
    "    xz.append(fig.add_subplot( 13,3,i*3 + 3  , xlabel=\"x\", ylabel=\"z\", xlim = (0.3, 1.4), ylim =(-0.1,1)))\n",
    "\n",
    "\n",
    "for i in range(13):\n",
    "    yz[i].plot([y[i],y[i] + v2[i]],[z[i], z[i]+ w2[i]],color =\"r\", label= \"prediction\", alpha= 0.7)\n",
    "    xz[i].plot([x[i],x[i] + u2[i]],[z[i], z[i]+ w2[i]],color =\"r\", label= \"prediction\", alpha= 0.7)\n",
    "    xy[i].plot([x[i],x[i] + u2[i]],[y[i], y[i]+ v2[i]],color =\"r\", label= \"prediction\", alpha= 0.7)\n",
    "    xy[i].plot([x[i],x[i] + u[i]],[y[i], y[i]+ v[i]],  color =\"b\", label= \"effect\")\n",
    "    yz[i].plot([y[i],y[i] + v[i]],[z[i], z[i]+ w[i]],  color =\"b\", label= \"effect\")\n",
    "    xz[i].plot([x[i],x[i] + u[i]],[z[i], z[i]+ w[i]],  color =\"b\", label= \"effect\")\n",
    "    if sample[\"pad_mask\"][i] == 0:\n",
    "        xy[i].set_ylabel(\"Non existent object\")\n",
    "\n",
    "xy[0].legend(bbox_to_anchor=(0., 1.02, 1., .102), loc='lower left',\n",
    "                      ncols=2, mode=\"expand\", borderaxespad=0.)\n"
   ]
  }
 ],
 "metadata": {
  "kernelspec": {
   "display_name": "Python 3",
   "language": "python",
   "name": "python3"
  },
  "language_info": {
   "codemirror_mode": {
    "name": "ipython",
    "version": 3
   },
   "file_extension": ".py",
   "mimetype": "text/x-python",
   "name": "python",
   "nbconvert_exporter": "python",
   "pygments_lexer": "ipython3",
   "version": "3.8.10"
  },
  "orig_nbformat": 4,
  "vscode": {
   "interpreter": {
    "hash": "916dbcbb3f70747c44a77c7bcd40155683ae19c65e1c03b4aa3499c5328201f1"
   }
  }
 },
 "nbformat": 4,
 "nbformat_minor": 2
}
